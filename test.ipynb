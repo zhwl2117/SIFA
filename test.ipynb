{
 "cells": [
  {
   "cell_type": "code",
   "execution_count": 42,
   "metadata": {},
   "outputs": [],
   "source": [
    "import tensorflow as tf"
   ]
  },
  {
   "cell_type": "code",
   "execution_count": 43,
   "metadata": {},
   "outputs": [],
   "source": [
    "import os\n",
    "os.environ[\"CUDA_VISIBLE_DEVICES\"] = \"0\"\n",
    "\n",
    "gpus = tf.config.experimental.list_physical_devices('GPU')\n",
    "if gpus:\n",
    "\tfor gpu in gpus:\n",
    "\t\ttf.config.experimental.set_memory_growth(gpu, True)"
   ]
  },
  {
   "cell_type": "code",
   "execution_count": 44,
   "metadata": {},
   "outputs": [],
   "source": [
    "source_pth = r'./data/datalist/training_mr.txt'\n",
    "with open(source_pth, 'r') as f:\n",
    "    rows = f.readlines()\n",
    "\n",
    "imagea_list = [row[: -1] for row in rows]"
   ]
  },
  {
   "cell_type": "code",
   "execution_count": 45,
   "metadata": {},
   "outputs": [],
   "source": [
    "imagea_dataset = tf.data.TFRecordDataset(imagea_list)"
   ]
  },
  {
   "cell_type": "code",
   "execution_count": 46,
   "metadata": {},
   "outputs": [],
   "source": [
    "decomp_feature = {\n",
    "        # image size, dimensions of 3 consecutive slices\n",
    "        'dsize_dim0': tf.io.FixedLenFeature([], tf.int64), # 256\n",
    "        'dsize_dim1': tf.io.FixedLenFeature([], tf.int64), # 256\n",
    "        'dsize_dim2': tf.io.FixedLenFeature([], tf.int64), # 3\n",
    "        # label size, dimension of the middle slice\n",
    "        'lsize_dim0': tf.io.FixedLenFeature([], tf.int64), # 256\n",
    "        'lsize_dim1': tf.io.FixedLenFeature([], tf.int64), # 256\n",
    "        'lsize_dim2': tf.io.FixedLenFeature([], tf.int64), # 1\n",
    "        # image slices of size [256, 256, 3]\n",
    "        'data_vol': tf.io.FixedLenFeature([], tf.string),\n",
    "        # label slice of size [256, 256, 3]\n",
    "        'label_vol': tf.io.FixedLenFeature([], tf.string)}"
   ]
  },
  {
   "cell_type": "code",
   "execution_count": 47,
   "metadata": {},
   "outputs": [],
   "source": [
    "from typing import Dict, Any, Tuple\n",
    "\n",
    "def decode(serialized_example: tf.string) -> Dict[str, tf.Tensor]:\n",
    "    return tf.io.parse_single_example(serialized_example,  decomp_feature)"
   ]
  },
  {
   "cell_type": "code",
   "execution_count": 48,
   "metadata": {},
   "outputs": [],
   "source": [
    "decoded_dataset = imagea_dataset.map(decode, num_parallel_calls=tf.data.experimental.AUTOTUNE)"
   ]
  },
  {
   "cell_type": "code",
   "execution_count": 49,
   "metadata": {},
   "outputs": [],
   "source": [
    "def parse(data: Dict[str, Any]) -> Tuple[tf.Tensor, tf.Tensor]:\n",
    "    raw_size = [256, 256, 3]\n",
    "    volume_size = [256, 256, 3]\n",
    "    label_size = [256, 256, 1] # the label has size [256,256,3] in the preprocessed data, but only the middle slice is used\n",
    "\n",
    "    data_vol = tf.io.decode_raw(data['data_vol'], tf.float32)\n",
    "    data_vol = tf.reshape(data_vol, raw_size)\n",
    "    data_vol = tf.slice(data_vol, [0, 0, 0], volume_size)\n",
    "\n",
    "    label_vol = tf.io.decode_raw(data['label_vol'], tf.float32)\n",
    "    label_vol = tf.reshape(label_vol, raw_size)\n",
    "    label_vol = tf.slice(label_vol, [0, 0, 1], label_size)\n",
    "\n",
    "    batch_y = tf.one_hot(tf.cast(tf.squeeze(label_vol), tf.uint8), 5)\n",
    "\n",
    "    return tf.expand_dims(data_vol[:, :, 1], axis=2), batch_y"
   ]
  },
  {
   "cell_type": "code",
   "execution_count": 50,
   "metadata": {},
   "outputs": [],
   "source": [
    "parsed_dataset = decoded_dataset.map(parse, num_parallel_calls=tf.data.experimental.AUTOTUNE)"
   ]
  },
  {
   "cell_type": "code",
   "execution_count": 51,
   "metadata": {},
   "outputs": [
    {
     "name": "stdout",
     "output_type": "stream",
     "text": [
      "<class 'tensorflow.python.framework.ops.EagerTensor'>\n"
     ]
    }
   ],
   "source": [
    "for data in imagea_dataset.take(1):\n",
    "    print(type(data))"
   ]
  },
  {
   "cell_type": "code",
   "execution_count": 53,
   "metadata": {},
   "outputs": [
    {
     "name": "stdout",
     "output_type": "stream",
     "text": [
      "tf.Tensor([256 256   1], shape=(3,), dtype=int32) tf.Tensor([256 256   5], shape=(3,), dtype=int32)\n"
     ]
    }
   ],
   "source": [
    "iter_data = iter(parsed_dataset)\n",
    "image, label = next(iter_data)\n",
    "image, label = next(iter_data)\n",
    "print(tf.shape(image), tf.shape(label))"
   ]
  },
  {
   "cell_type": "code",
   "execution_count": 57,
   "metadata": {},
   "outputs": [],
   "source": [
    "source_dataset = parsed_dataset.repeat().shuffle(100).batch(2)"
   ]
  }
 ],
 "metadata": {
  "interpreter": {
   "hash": "5f6d1ea77d837e282082a3e3e1ada0b2f61b758522a969cdea8d8dcdd98fe327"
  },
  "kernelspec": {
   "display_name": "Python 3.8.13 ('sifa')",
   "language": "python",
   "name": "python3"
  },
  "language_info": {
   "codemirror_mode": {
    "name": "ipython",
    "version": 3
   },
   "file_extension": ".py",
   "mimetype": "text/x-python",
   "name": "python",
   "nbconvert_exporter": "python",
   "pygments_lexer": "ipython3",
   "version": "3.8.13"
  },
  "orig_nbformat": 4
 },
 "nbformat": 4,
 "nbformat_minor": 2
}
